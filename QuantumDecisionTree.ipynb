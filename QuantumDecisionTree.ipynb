{
 "cells": [
  {
   "cell_type": "code",
   "execution_count": 1,
   "id": "ed4ff96f",
   "metadata": {},
   "outputs": [],
   "source": [
    "from qiskit import QuantumRegister, ClassicalRegister, QuantumCircuit\n",
    "from qiskit.visualization import plot_histogram\n",
    "from qiskit import execute, Aer, circuit\n",
    "from qiskit.converters import circuit_to_dag, dag_to_circuit"
   ]
  },
  {
   "cell_type": "code",
   "execution_count": 72,
   "id": "752750ed",
   "metadata": {},
   "outputs": [
    {
     "data": {
      "image/png": "[encoded data removed]",
      "text/plain": [
       "<Figure size 504x360 with 1 Axes>"
      ]
     },
     "execution_count": 72,
     "metadata": {},
     "output_type": "execute_result"
    }
   ],
   "source": [
    "def mult_2(qc, n):\n",
    "    for i in range(n):\n",
    "        qc.cx(i, i + n)\n",
    "    for i in range(n):\n",
    "        qc.cx(i + n, i)\n",
    "    for i in range(1, n):\n",
    "        qc.cx(i + n - 1, i)\n",
    "    for i in range(1, n):\n",
    "        qc.cx(i, i + n - 1)\n",
    "\n",
    "n = 4\n",
    "qc = QuantumCircuit(QuantumRegister(n), QuantumRegister(n), ClassicalRegister(n))\n",
    "qc.x(0) \n",
    "qc.x(1) #0011\n",
    "\n",
    "mult_2(qc, n) #0110\n",
    "qc.measure(range(n), range(n))\n",
    "job = execute(qc, Aer.get_backend('qasm_simulator'), shots=100)\n",
    "counts = job.result().get_counts(qc)\n",
    "plot_histogram(counts)\n",
    "\n"
   ]
  },
  {
   "cell_type": "code",
   "execution_count": 1,
   "id": "42cc4779",
   "metadata": {},
   "outputs": [],
   "source": [
    "from qiskit import QuantumRegister, ClassicalRegister, QuantumCircuit\n",
    "from qiskit.visualization import plot_histogram\n",
    "from qiskit import execute, Aer, circuit\n",
    "#from qiskit.converters import circuit_to_dag, dag_to_circuit\n",
    "from sklearn.tree import DecisionTreeClassifier\n",
    "from sklearn.tree import export_text\n",
    "from sklearn.ensemble import RandomForestClassifier\n",
    "import joblib\n",
    "from sklearn import tree"
   ]
  },
  {
   "cell_type": "code",
   "execution_count": 8,
   "id": "83e663c1",
   "metadata": {},
   "outputs": [],
   "source": [
    "def int_to_bin(int_numb, length):\n",
    "    s = [0] * length\n",
    "    i = 0\n",
    "    while int_numb > 0:\n",
    "        s[i] = int_numb % 2\n",
    "        int_numb //= 2\n",
    "        i += 1\n",
    "    return s\n",
    "#print(int_to_bin(3, 4))"
   ]
  },
  {
   "cell_type": "code",
   "execution_count": 35,
   "id": "ca274d02",
   "metadata": {},
   "outputs": [],
   "source": [
    "def inc(qc, start_index, n_qbits):\n",
    "    for i in range(start_index, start_index + n_qbits - 1):\n",
    "        qc.mct(\n",
    "            list(range(start_index, start_index + n_qbits - (i - start_index) - 1)), \n",
    "            start_index + n_qbits  - (i - start_index) - 1\n",
    "        )\n",
    "    qc.x(start_index)"
   ]
  },
  {
   "cell_type": "code",
   "execution_count": 36,
   "id": "389d4308",
   "metadata": {},
   "outputs": [],
   "source": [
    "\"\"\"\n",
    "#старая версия\n",
    "def mult_to_2(qc, start_index, n_qbits):\n",
    "    n = n_qbits\n",
    "    #for i in range(start_index, start_index + n): ???\n",
    "    #    qc.cx(i, i + n)\n",
    "    for i in range(start_index, start_index + n): #? check\n",
    "        qc.cx(i + n, i) #обнуляю основной регистр\n",
    "    for i in range(start_index + 1, start_index + n):\n",
    "        qc.cx(i + n - 1, i) #двигаю биты вправо в основном регистре\n",
    "    for i in range(start_index + 1, start_index + n):\n",
    "        qc.cx(i, i + n - 1) #обнуляю вспомогательный регистр\n",
    "\"\"\"\n",
    "def mult_to_2(qc, start_index, n_qbits):\n",
    "    for i in range(start_index + n_qbits - 1, 0, -1):\n",
    "        qc.swap(i, i-1) #swap = x * 3\n"
   ]
  },
  {
   "cell_type": "code",
   "execution_count": 37,
   "id": "75860651",
   "metadata": {},
   "outputs": [],
   "source": [
    "def change_node_index_gate(cur_ind, start_index, n_qbits, X, tree):\n",
    "    qc = QuantumCircuit(n_qbits + 1)\n",
    "    \n",
    "    #если лист, достаем alpha\n",
    "    if tree.feature[cur_ind] < 0:\n",
    "        #поворачиваем 0-ой кубит на угол alpha\n",
    "        qc.r(2 * tree.alpha[cur_ind], 0, 0) #????\n",
    "    else:\n",
    "        if X[tree.feature[cur_ind]] <= tree.threshold[cur_ind]:\n",
    "            #идем в левого ребенка\n",
    "            mult_to_2(qc, start_index, n_qbits)\n",
    "            #inc(qc, start_index, n_qbits)\n",
    "            #for i in range(start_index, start_index + n_qbits): #? check\n",
    "            #    qc.cx(i, i + n_qbits) #вспомогательный регистр равен основному\n",
    "        else:\n",
    "            # идем в правого ребенка\n",
    "            mult_to_2(qc, start_index, n_qbits)\n",
    "            inc(qc, start_index, n_qbits)\n",
    "            #inc(qc, start_index, n_qbits)\n",
    "            #for i in range(start_index, start_index + n_qbits): #? check\n",
    "            #    qc.cx(i, i + n_qbits) #вспомогательный регистр равен основному\n",
    "    return qc.to_gate()\n",
    "    "
   ]
  },
  {
   "cell_type": "code",
   "execution_count": 58,
   "id": "c08cd18f",
   "metadata": {},
   "outputs": [],
   "source": [
    "# n_of_qbits - для хранения индекса узла\n",
    "# start_index - с какого кубита начинается хранения индекса числа\n",
    "# X - объект, для которого предсказываем класс\n",
    "# tree - дерево \n",
    "def tree_predict(qc, start_index=1, n_qbits, X, tree):\n",
    "    n_nodes = tree.n_nodes \n",
    "    tree_height = math.log(n_nodes, 2)\n",
    "    qc.x(start_index) #находимся в первом узле\n",
    "    #цикл по количеству узлов\n",
    "    for i in range(1, n_nodes): #id of nodes\n",
    "        #если равен текущему индексу узла дерева, меняю на единицы\n",
    "        bits = int_to_bin(i, n_qbits)\n",
    "        for j in range(len(bits)):\n",
    "            if bits[j] == 0:\n",
    "                qc.x(start_index + j)    \n",
    "        \n",
    "        # если все единицы, проверяю условие, увеличиваю индекс текущего узла\n",
    "        qc.mct(list(range(start_index, start_index + n_qbits)), start_index + n_qbits) # он будет контролирующий\n",
    "        \n",
    "        # отменяю отрицания, привожу к индексу        \n",
    "        for j in range(len(bits)):\n",
    "            if bits[j] == 0:\n",
    "                qc.x(start_index + j)\n",
    "        qc.append(\n",
    "            change_node_index_gate(i, start_index, n_qbits, X, tree).control(), \n",
    "            [start_index + n_qbits] + list(range(start_index + n_qbits))\n",
    "        )\n",
    "        \n",
    "        # если ушли в ребенка. левый и правый ребенок отличаются только в последнем кубите\n",
    "        if i < 2 ** (height - 1):\n",
    "            bits = int_to_bin(2 * i, n_qbits)\n",
    "            for j in range(1, len(bits)):\n",
    "                if bits[j] == 0:\n",
    "                    qc.x(start_index + j) \n",
    "            #самый правый кубит обратно в 0\n",
    "            qc.mct(list(range(start_index + 1, start_index + n_qbits)), start_index + n_qbits) \n",
    "            for j in range(1, len(bits)): #отменяю\n",
    "                if bits[j] == 0:\n",
    "                    qc.x(start_index + j) \n",
    "        else:\n",
    "            #job = execute(qc,Aer.get_backend('statevector_simulator'),optimization_level=0)\n",
    "            #current_quantum_state=job.result().get_statevector(qc)\n",
    "            #print(current_quantum_state)\n",
    "            for j in range(len(bits)):\n",
    "                if bits[j] == 0:\n",
    "                    qc.x(start_index + j)    \n",
    "            qc.mct(list(range(start_index, start_index + n_qbits)), start_index + n_qbits) \n",
    "            # отменяю отрицания, привожу к индексу        \n",
    "            for j in range(len(bits)):\n",
    "                if bits[j] == 0:\n",
    "                    qc.x(start_index + j)\n",
    "       "
   ]
  },
  {
   "cell_type": "code",
   "execution_count": 39,
   "id": "c02c02c7",
   "metadata": {},
   "outputs": [],
   "source": [
    "import joblib\n",
    "import sys\n",
    "sys.path.insert(0, 'C:\\\\Users\\\\lilia\\\\PycharmProjects\\\\pythonProject\\\\ClassificationProblem-main')\n",
    "from TreeClassification import *\n",
    "import preprocessing\n",
    "import math"
   ]
  },
  {
   "cell_type": "code",
   "execution_count": 40,
   "id": "c2b51bf0",
   "metadata": {},
   "outputs": [
    {
     "name": "stdout",
     "output_type": "stream",
     "text": [
      "64\n"
     ]
    }
   ],
   "source": [
    "tree = TreeClassification(joblib.load('C:\\\\Users\\\\lilia\\\\PycharmProjects\\\\pythonProject\\\\test\\\\joblib_model.pkl'))\n",
    "tree.print_tree()"
   ]
  },
  {
   "cell_type": "code",
   "execution_count": 41,
   "id": "eb00d7d0",
   "metadata": {},
   "outputs": [],
   "source": [
    "n_qbits = int(math.log2(tree.n_nodes))\n",
    "start_index = 1\n",
    "#X = [[0, 1, 2]] \n",
    "x_test, y_test = preprocessing.get_data(\"C:\\\\Users\\\\lilia\\\\PycharmProjects\\\\pythonProject\\\\ClassificationProblem-main\\\\data\\\\df_test.csv\")\n",
    "X = x_test.loc[89]"
   ]
  },
  {
   "cell_type": "code",
   "execution_count": 42,
   "id": "07aee4a7",
   "metadata": {},
   "outputs": [
    {
     "name": "stdout",
     "output_type": "stream",
     "text": [
      "[[0.76621881 0.23378119]]\n"
     ]
    }
   ],
   "source": [
    "clf = joblib.load('C:\\\\Users\\\\lilia\\\\PycharmProjects\\\\pythonProject\\\\test\\\\joblib_model.pkl')\n",
    "print(clf.predict_proba([X]))"
   ]
  },
  {
   "cell_type": "code",
   "execution_count": 43,
   "id": "0a98c752",
   "metadata": {},
   "outputs": [],
   "source": [
    "qc = QuantumCircuit(QuantumRegister(start_index), QuantumRegister(n_qbits), QuantumRegister(1), ClassicalRegister(1))\n",
    "tree_predict(qc, start_index, n_qbits, X, tree)"
   ]
  },
  {
   "cell_type": "code",
   "execution_count": 60,
   "id": "7f05e70a",
   "metadata": {},
   "outputs": [
    {
     "name": "stdout",
     "output_type": "stream",
     "text": [
      "[[0.98970988 0.01029012]]\n",
      "0.99 0.01\n",
      "[[0.57142857 0.42857143]]\n",
      "0.55 0.45\n",
      "[[0.74067106 0.25932894]]\n",
      "0.76 0.24\n",
      "[[0.57142857 0.42857143]]\n",
      "0.66 0.34\n",
      "[[0.98970988 0.01029012]]\n",
      "0.99 0.01\n",
      "[[0.98970988 0.01029012]]\n",
      "0.99 0.01\n",
      "[[0.98970988 0.01029012]]\n",
      "0.99 0.01\n",
      "[[0.08527132 0.91472868]]\n",
      "0.09 0.91\n",
      "[[0.98970988 0.01029012]]\n",
      "0.99 0.01\n",
      "[[0.57142857 0.42857143]]\n",
      "0.65 0.35\n"
     ]
    }
   ],
   "source": [
    "for i in range(10):\n",
    "    X = x_test.loc[i]\n",
    "    print(clf.predict_proba([X]))\n",
    "    qc = QuantumCircuit(QuantumRegister(start_index), QuantumRegister(n_qbits), QuantumRegister(1), ClassicalRegister(1))\n",
    "    tree_predict(qc, start_index, n_qbits, X, tree)\n",
    "    qc.measure(0, 0)\n",
    "    job = execute(qc, Aer.get_backend('qasm_simulator'), shots=100)\n",
    "    counts = job.result().get_counts(qc)\n",
    "    #plot_histogram(counts)\n",
    "    print(counts['0'] / 100, counts['1'] / 100)\n",
    "   "
   ]
  }
 ],
 "metadata": {
  "kernelspec": {
   "display_name": "Python 3 (ipykernel)",
   "language": "python",
   "name": "python3"
  },
  "language_info": {
   "codemirror_mode": {
    "name": "ipython",
    "version": 3
   },
   "file_extension": ".py",
   "mimetype": "text/x-python",
   "name": "python",
   "nbconvert_exporter": "python",
   "pygments_lexer": "ipython3",
   "version": "3.9.7"
  }
 },
 "nbformat": 4,
 "nbformat_minor": 5
}
